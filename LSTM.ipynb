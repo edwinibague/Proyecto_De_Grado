{
  "nbformat": 4,
  "nbformat_minor": 0,
  "metadata": {
    "colab": {
      "provenance": [],
      "collapsed_sections": [],
      "machine_shape": "hm",
      "include_colab_link": true
    },
    "kernelspec": {
      "name": "python3",
      "display_name": "Python 3"
    },
    "language_info": {
      "name": "python"
    },
    "accelerator": "GPU",
    "gpuClass": "standard"
  },
  "cells": [
    {
      "cell_type": "markdown",
      "metadata": {
        "id": "view-in-github",
        "colab_type": "text"
      },
      "source": [
        "<a href=\"https://colab.research.google.com/github/edwinibague/Proyecto_De_Grado/blob/master/LSTM.ipynb\" target=\"_parent\"><img src=\"https://colab.research.google.com/assets/colab-badge.svg\" alt=\"Open In Colab\"/></a>"
      ]
    },
    {
      "cell_type": "code",
      "metadata": {
        "colab": {
          "base_uri": "https://localhost:8080/"
        },
        "id": "y7l-6qxyvpm3",
        "outputId": "becea231-8551-498b-8013-807c683747c1"
      },
      "source": [
        " from google.colab import drive\n",
        "drive.mount('/content/drive')"
      ],
      "execution_count": 1,
      "outputs": [
        {
          "output_type": "stream",
          "name": "stdout",
          "text": [
            "Mounted at /content/drive\n"
          ]
        }
      ]
    },
    {
      "cell_type": "code",
      "metadata": {
        "id": "LLNeTlrT0yTD"
      },
      "source": [
        "import numpy\n",
        "import pandas as pd \n",
        "import numpy as np\n",
        "from sklearn.model_selection import train_test_split\n",
        "from keras.datasets import imdb\n",
        "from keras.models import Sequential\n",
        "from keras.layers import Dense\n",
        "from keras.layers import LSTM\n",
        "from keras.layers import Dropout\n",
        "from keras.layers.convolutional import Conv1D\n",
        "from keras.layers.convolutional import MaxPooling1D\n",
        "from keras.layers.embeddings import Embedding\n",
        "from keras.preprocessing import sequence\n",
        "import tensorflow as tf\n",
        "from tensorflow.keras.losses import categorical_crossentropy\n",
        "\n",
        "\n",
        "# fix random seed for reproducibility\n",
        "numpy.random.seed(7)"
      ],
      "execution_count": 2,
      "outputs": []
    },
    {
      "cell_type": "code",
      "metadata": {
        "id": "Qni2UJZslx5S"
      },
      "source": [
        "NameBen = '/content/drive/My Drive/DataMB/DataBen.pkl'\n",
        "NameMal = '/content/drive/My Drive/DataMB/DataMal.pkl'"
      ],
      "execution_count": 3,
      "outputs": []
    },
    {
      "cell_type": "code",
      "metadata": {
        "id": "IoBkcokTl1eT"
      },
      "source": [
        "DataBen = pd.read_pickle(NameBen)\n",
        "DataMal = pd.read_pickle(NameMal)\n"
      ],
      "execution_count": 4,
      "outputs": []
    },
    {
      "cell_type": "code",
      "source": [
        "#--------- Generando lista de listas para sequence.pad_sequences\n",
        "from typing import List\n",
        "LDB = []\n",
        "Datx = DataBen.transpose()\n",
        "for x in range(len(DataBen)):\n",
        "    LDB.append((Datx[x]))"
      ],
      "metadata": {
        "id": "WfQvEVAv76aL"
      },
      "execution_count": 5,
      "outputs": []
    },
    {
      "cell_type": "code",
      "source": [
        "LDM = []\n",
        "Daty = DataMal.transpose()\n",
        "for x in range(len(DataMal)):\n",
        "  LDM.append((Daty[x]))\n",
        "\n",
        "#--------- Fin de transformacion de listas"
      ],
      "metadata": {
        "id": "QEOVZo0v-xP_"
      },
      "execution_count": 6,
      "outputs": []
    },
    {
      "cell_type": "code",
      "metadata": {
        "id": "iSES7TB3wnAV",
        "colab": {
          "base_uri": "https://localhost:8080/",
          "height": 35
        },
        "outputId": "187a38a2-c211-4a50-ae7f-14b6bae1ddee"
      },
      "source": [
        "\"\"\"\n",
        "with open('Malignas.json') as file:\n",
        "    Malignas = json.load(file)\n",
        "\n",
        "with open('Benignas.json') as file:\n",
        "    Benignas = json.load(file)\"\"\"\n",
        "\n",
        "    # load the dataset but only keep the top n words, zero the rest\n",
        "#top_words = 5000\n",
        "#(X_train, y_train), (X_test, y_test) = imdb.load_data(num_words=top_words)\n",
        "#(X_train, y_train), (X_test, y_test) = imdb.load_data(DataBen.all(),DataMal.all())\n"
      ],
      "execution_count": 7,
      "outputs": [
        {
          "output_type": "execute_result",
          "data": {
            "text/plain": [
              "\"\\nwith open('Malignas.json') as file:\\n    Malignas = json.load(file)\\n\\nwith open('Benignas.json') as file:\\n    Benignas = json.load(file)\""
            ],
            "application/vnd.google.colaboratory.intrinsic+json": {
              "type": "string"
            }
          },
          "metadata": {},
          "execution_count": 7
        }
      ]
    },
    {
      "cell_type": "code",
      "metadata": {
        "colab": {
          "base_uri": "https://localhost:8080/"
        },
        "id": "fE06ijDh056d",
        "outputId": "504d02db-ee7e-4415-a153-dd7372a78899"
      },
      "source": [
        "# load the dataset but only keep the top n words, zero the rest\n",
        "#top_words = 5000\n",
        "#(X_train, y_train), (X_test, y_test) = imdb.load_data(num_words=top_words)\n",
        "#(X_train, y_train), (X_test, y_test) = imdb.load_data(DataBen.all(),DataMal.all())\n",
        "\n",
        "\n",
        "#Ben = LDB.truncate(before=0, after=(len(LDM)-1))\n",
        "LDBn = LDB[0:len(LDM)]\n",
        "X_train, X_test, _, _ = train_test_split(LDBn,LDBn)\n",
        "y_train, y_test, _, _ = train_test_split(LDM,LDM)\n",
        "print(len(y_train))\n",
        "print(len(X_train[0]))"
      ],
      "execution_count": 8,
      "outputs": [
        {
          "output_type": "stream",
          "name": "stdout",
          "text": [
            "1713\n",
            "360\n"
          ]
        }
      ]
    },
    {
      "cell_type": "code",
      "metadata": {
        "id": "D6gF08UkRRck"
      },
      "source": [
        "y_train = np.array(y_train, dtype= np.uint8)\n",
        "y_test = np.array(y_test, dtype= np.uint8)\n",
        "X_train =  np.array(X_train, dtype= np.uint8)\n",
        "X_test = np.array(X_test, dtype= np.uint8)"
      ],
      "execution_count": 9,
      "outputs": []
    },
    {
      "cell_type": "code",
      "source": [
        "#X_train"
      ],
      "metadata": {
        "id": "9X7wExJSSex5"
      },
      "execution_count": 10,
      "outputs": []
    },
    {
      "cell_type": "code",
      "source": [
        "#y_train = y_train.transpose()\n",
        "#X_train = X_train.transpose()"
      ],
      "metadata": {
        "id": "G0Q-_34IScoZ"
      },
      "execution_count": 11,
      "outputs": []
    },
    {
      "cell_type": "code",
      "source": [
        "#Change to list of list list[List[]]\n",
        "#X_train = X_train.transpose()\n",
        "#X_train[0]"
      ],
      "metadata": {
        "id": "cRXGxbTfLWxt"
      },
      "execution_count": 12,
      "outputs": []
    },
    {
      "cell_type": "code",
      "metadata": {
        "id": "Sfp3QAFe1Dn-",
        "colab": {
          "base_uri": "https://localhost:8080/"
        },
        "outputId": "89dbe77c-953f-48ea-a261-6df90ef84a10"
      },
      "source": [
        "# truncate and pad input sequences\n",
        "top_words = len(LDBn)\n",
        "max_review_length = 500\n",
        "X_train = sequence.pad_sequences(X_train, maxlen=max_review_length)\n",
        "X_test = sequence.pad_sequences(X_test, maxlen=max_review_length)\n",
        "\n",
        "y_train = sequence.pad_sequences(y_train, maxlen=max_review_length)\n",
        "y_test = sequence.pad_sequences(y_test, maxlen=max_review_length)\n",
        "\n",
        "normalizer1 = tf.keras.layers.experimental.preprocessing.Normalization(axis=None)\n",
        "normalizer1.adapt(y_train)\n",
        "normalizer2 = tf.keras.layers.experimental.preprocessing.Normalization(axis=None)\n",
        "normalizer2.adapt(y_test)\n",
        "\n",
        "normalizer1 = tf.keras.layers.experimental.preprocessing.Normalization(axis=None)\n",
        "normalizer1.adapt(X_train)\n",
        "normalizer2 = tf.keras.layers.experimental.preprocessing.Normalization(axis=None)\n",
        "normalizer2.adapt(X_test)\n",
        "\n",
        "X_train.shape"
      ],
      "execution_count": 13,
      "outputs": [
        {
          "output_type": "execute_result",
          "data": {
            "text/plain": [
              "(1713, 500)"
            ]
          },
          "metadata": {},
          "execution_count": 13
        }
      ]
    },
    {
      "cell_type": "code",
      "source": [
        "print(X_train[0])"
      ],
      "metadata": {
        "colab": {
          "base_uri": "https://localhost:8080/"
        },
        "id": "t3estAFMewAQ",
        "outputId": "526f9ffd-6827-437b-de14-638fa0cdf5e6"
      },
      "execution_count": 14,
      "outputs": [
        {
          "output_type": "stream",
          "name": "stdout",
          "text": [
            "[  0   0   0   0   0   0   0   0   0   0   0   0   0   0   0   0   0   0\n",
            "   0   0   0   0   0   0   0   0   0   0   0   0   0   0   0   0   0   0\n",
            "   0   0   0   0   0   0   0   0   0   0   0   0   0   0   0   0   0   0\n",
            "   0   0   0   0   0   0   0   0   0   0   0   0   0   0   0   0   0   0\n",
            "   0   0   0   0   0   0   0   0   0   0   0   0   0   0   0   0   0   0\n",
            "   0   0   0   0   0   0   0   0   0   0   0   0   0   0   0   0   0   0\n",
            "   0   0   0   0   0   0   0   0   0   0   0   0   0   0   0   0   0   0\n",
            "   0   0   0   0   0   0   0   0   0   0   0   0   0   0 151 230 238 238\n",
            " 239 252   0   3   8  11   3   5   1 253 251 255 245 242 239 238 244 251\n",
            " 242 241 240 241 243 240 236 230 226 225 224 221 212 205 196 194 190 188\n",
            " 181 177 182 185 181 187 190 192 192 191 188 190 195 194 201 198 201 201\n",
            " 198 194 193 191 196 198 197 200 205 211 219 224 230 239 243 252   1   9\n",
            "  16  21  27  33  43  48  42  37  27  19  12   7 255 246 241 232 226 221\n",
            " 215 205 209 215 227 232 238 244 250   7  27  42  56  65  74  75  57  45\n",
            "  30  21   7  10  17  25  48  58  68  56  41  32  26  27  30  34  39  45\n",
            "  53  58  54  49  44  36  36  38  42  44  46  49  50  49  46  44  40  38\n",
            "  35  33  30  21  14  11   4 249 239 235 228 221 205 180 172 159 153 151\n",
            " 148 148 149 149 151 153 156 159 162 166 169 171 175 178 182 187 190 193\n",
            " 197 200 207 212 216 219 225 230 235 238 243 248 253   1   7  13  20  26\n",
            "  34  38  41  43  44  45  49  50  52  54  52  51  50  46  44  42  41  34\n",
            "  30  24  18  22  25  33  42  46  57  65  89  99 111 105  96  83  76  72\n",
            "  60  57  48  41  35  30  24  18  12   8   4   1 252 249 245 242 237 233\n",
            " 225 221 223 226   1  11  19  25  35  41  50  57  67  76  85  92 101 107\n",
            " 112 122 115 111  97  83  73  65  60  53  44  38  30  24  17  11 252 225\n",
            " 204 207 219 241 247   3  11  15  23  33  43  51  60  69  78  83  91 100\n",
            " 114 125 125 119 107  96  89  85  74  64  55  48  38  33  25  17   5 252\n",
            " 229 225 217 209 201 196 189 185 181 178 174 166 163 164 169 174 179 186\n",
            " 189 195 197 193 199 202 197 198 199 198 203 211 216 220]\n"
          ]
        }
      ]
    },
    {
      "cell_type": "code",
      "metadata": {
        "colab": {
          "base_uri": "https://localhost:8080/"
        },
        "id": "glTIWdoe1D9a",
        "outputId": "e7c76556-eed0-4b30-cc2c-f88716af4fb9"
      },
      "source": [
        "# create the model\n",
        "embedding_vecor_length = 32\n",
        "model = Sequential()\n",
        "model.add(Embedding(top_words, embedding_vecor_length, input_length=max_review_length))\n",
        "model.add(LSTM(100, return_sequences = True, input_shape = (X_train.shape[1], 1)))\n",
        "model.add(Dense(2, activation='sigmoid'))\n",
        "#model.add(BatchNormalization((512),epsilon=1e-6,weights=None))\n",
        "#model.compile(loss = 'mean_squared_error', optimizer='adam', metrics=['accuracy'])\n",
        "model.compile(loss =tf.keras.losses.SparseCategoricalCrossentropy(from_logits=True), optimizer='adam', metrics=['accuracy'])\n",
        "\n",
        "print(model.summary())\n",
        "model.fit(X_train, y_train, validation_data=(X_test, y_test), epochs=10, batch_size=64)"
      ],
      "execution_count": 21,
      "outputs": [
        {
          "output_type": "stream",
          "name": "stdout",
          "text": [
            "Model: \"sequential_4\"\n",
            "_________________________________________________________________\n",
            " Layer (type)                Output Shape              Param #   \n",
            "=================================================================\n",
            " embedding_4 (Embedding)     (None, 500, 32)           73088     \n",
            "                                                                 \n",
            " lstm_4 (LSTM)               (None, 500, 100)          53200     \n",
            "                                                                 \n",
            " dense_4 (Dense)             (None, 500, 2)            202       \n",
            "                                                                 \n",
            "=================================================================\n",
            "Total params: 126,490\n",
            "Trainable params: 126,490\n",
            "Non-trainable params: 0\n",
            "_________________________________________________________________\n",
            "None\n",
            "Epoch 1/10\n",
            "27/27 [==============================] - 3s 59ms/step - loss: nan - accuracy: 0.2985 - val_loss: nan - val_accuracy: 0.3005\n",
            "Epoch 2/10\n",
            "27/27 [==============================] - 1s 30ms/step - loss: nan - accuracy: 0.2986 - val_loss: nan - val_accuracy: 0.3005\n",
            "Epoch 3/10\n",
            "27/27 [==============================] - 1s 31ms/step - loss: nan - accuracy: 0.2986 - val_loss: nan - val_accuracy: 0.3005\n",
            "Epoch 4/10\n",
            "27/27 [==============================] - 1s 30ms/step - loss: nan - accuracy: 0.2986 - val_loss: nan - val_accuracy: 0.3005\n",
            "Epoch 5/10\n",
            "27/27 [==============================] - 1s 30ms/step - loss: nan - accuracy: 0.2986 - val_loss: nan - val_accuracy: 0.3005\n",
            "Epoch 6/10\n",
            "27/27 [==============================] - 1s 31ms/step - loss: nan - accuracy: 0.2986 - val_loss: nan - val_accuracy: 0.3005\n",
            "Epoch 7/10\n",
            "27/27 [==============================] - 1s 30ms/step - loss: nan - accuracy: 0.2986 - val_loss: nan - val_accuracy: 0.3005\n",
            "Epoch 8/10\n",
            "27/27 [==============================] - 1s 31ms/step - loss: nan - accuracy: 0.2986 - val_loss: nan - val_accuracy: 0.3005\n",
            "Epoch 9/10\n",
            "27/27 [==============================] - 1s 32ms/step - loss: nan - accuracy: 0.2986 - val_loss: nan - val_accuracy: 0.3005\n",
            "Epoch 10/10\n",
            "27/27 [==============================] - 1s 31ms/step - loss: nan - accuracy: 0.2986 - val_loss: nan - val_accuracy: 0.3005\n"
          ]
        },
        {
          "output_type": "execute_result",
          "data": {
            "text/plain": [
              "<keras.callbacks.History at 0x7fa3add25710>"
            ]
          },
          "metadata": {},
          "execution_count": 21
        }
      ]
    },
    {
      "cell_type": "code",
      "metadata": {
        "colab": {
          "base_uri": "https://localhost:8080/"
        },
        "id": "URI7FnnY1PI9",
        "outputId": "9ef7ea57-4b73-4215-c57c-702bea92cefb"
      },
      "source": [
        "# Final evaluation of the model\n",
        "scores = model.evaluate(X_test, y_test, verbose=0)\n",
        "print(\"Accuracy: %.2f%%\" % (scores[1]*100))"
      ],
      "execution_count": 17,
      "outputs": [
        {
          "output_type": "stream",
          "name": "stdout",
          "text": [
            "Accuracy: 30.05%\n"
          ]
        }
      ]
    },
    {
      "cell_type": "code",
      "source": [
        "embedding_vecor_length = 32\n",
        "model = Sequential()\n",
        "model.add(Embedding(top_words, embedding_vecor_length, input_length=max_review_length))\n",
        "model.add(Dropout(0.2))\n",
        "model.add(LSTM(50, return_sequences = True, input_shape = (X_train.shape[1], 1)))\n",
        "model.add(Dropout(0.2))\n",
        "model.add(Dense(32, activation='sigmoid'))\n",
        "model.compile(loss = tf.keras.losses.SparseCategoricalCrossentropy(from_logits=True), optimizer='adam', metrics=['accuracy'])\n",
        "print(model.summary())\n",
        "model.fit(X_train, y_train, validation_data=(X_test, y_test), epochs=10, batch_size=64)\n",
        "# Final evaluation of the model\n",
        "scores = model.evaluate(X_test, y_test, verbose=0)\n",
        "print(\"Accuracy: %.2f%%\" % (scores[1]*100))"
      ],
      "metadata": {
        "colab": {
          "base_uri": "https://localhost:8080/"
        },
        "id": "w-cFpIgIacOF",
        "outputId": "ce011f9e-3710-40bc-a764-6fb45d32b113"
      },
      "execution_count": 15,
      "outputs": [
        {
          "output_type": "stream",
          "name": "stdout",
          "text": [
            "Model: \"sequential_3\"\n",
            "_________________________________________________________________\n",
            " Layer (type)                Output Shape              Param #   \n",
            "=================================================================\n",
            " embedding_3 (Embedding)     (None, 500, 32)           73088     \n",
            "                                                                 \n",
            " dropout_2 (Dropout)         (None, 500, 32)           0         \n",
            "                                                                 \n",
            " lstm_4 (LSTM)               (None, 500, 50)           16600     \n",
            "                                                                 \n",
            " dropout_3 (Dropout)         (None, 500, 50)           0         \n",
            "                                                                 \n",
            " dense_3 (Dense)             (None, 500, 32)           1632      \n",
            "                                                                 \n",
            "=================================================================\n",
            "Total params: 91,320\n",
            "Trainable params: 91,320\n",
            "Non-trainable params: 0\n",
            "_________________________________________________________________\n",
            "None\n",
            "Epoch 1/10\n",
            "27/27 [==============================] - 3s 43ms/step - loss: nan - accuracy: 0.2882 - val_loss: nan - val_accuracy: 0.3005\n",
            "Epoch 2/10\n",
            "27/27 [==============================] - 1s 22ms/step - loss: nan - accuracy: 0.2986 - val_loss: nan - val_accuracy: 0.3005\n",
            "Epoch 3/10\n",
            "27/27 [==============================] - 1s 22ms/step - loss: nan - accuracy: 0.2986 - val_loss: nan - val_accuracy: 0.3005\n",
            "Epoch 4/10\n",
            "27/27 [==============================] - 1s 22ms/step - loss: nan - accuracy: 0.2986 - val_loss: nan - val_accuracy: 0.3005\n",
            "Epoch 5/10\n",
            "27/27 [==============================] - 1s 22ms/step - loss: nan - accuracy: 0.2986 - val_loss: nan - val_accuracy: 0.3005\n",
            "Epoch 6/10\n",
            "27/27 [==============================] - 1s 22ms/step - loss: nan - accuracy: 0.2986 - val_loss: nan - val_accuracy: 0.3005\n",
            "Epoch 7/10\n",
            "27/27 [==============================] - 1s 22ms/step - loss: nan - accuracy: 0.2986 - val_loss: nan - val_accuracy: 0.3005\n",
            "Epoch 8/10\n",
            "27/27 [==============================] - 1s 22ms/step - loss: nan - accuracy: 0.2986 - val_loss: nan - val_accuracy: 0.3005\n",
            "Epoch 9/10\n",
            "27/27 [==============================] - 1s 22ms/step - loss: nan - accuracy: 0.2986 - val_loss: nan - val_accuracy: 0.3005\n",
            "Epoch 10/10\n",
            "27/27 [==============================] - 1s 22ms/step - loss: nan - accuracy: 0.2986 - val_loss: nan - val_accuracy: 0.3005\n",
            "Accuracy: 30.05%\n"
          ]
        }
      ]
    },
    {
      "cell_type": "code",
      "source": [
        "#Callback\n"
      ],
      "metadata": {
        "id": "5G3PQugYCxQD"
      },
      "execution_count": null,
      "outputs": []
    },
    {
      "cell_type": "code",
      "source": [
        "embedding_vecor_length = 32\n",
        "model = Sequential()\n",
        "model.add(Embedding(top_words, embedding_vecor_length, input_length=max_review_length))\n",
        "#model.add(Dropout(0.2))\n",
        "model.add(LSTM(50, return_sequences = True, input_shape = (X_train.shape[1], 1), dropout=0.2, recurrent_dropout=0.2))\n",
        "#model.add(Dropout(0.2))\n",
        "model.add(Dense(32, activation='sigmoid'))\n",
        "model.compile(loss = tf.keras.losses.SparseCategoricalCrossentropy(from_logits=True), optimizer='adam', metrics=['accuracy'])\n",
        "print(model.summary())\n",
        "model.fit(X_train, y_train, validation_data=(X_test, y_test), epochs=10, batch_size=64)\n",
        "# Final evaluation of the model\n",
        "scores = model.evaluate(X_test, y_test, verbose=0)\n",
        "print(\"Accuracy: %.2f%%\" % (scores[1]*100))"
      ],
      "metadata": {
        "colab": {
          "base_uri": "https://localhost:8080/"
        },
        "id": "AoRFwVlua9-n",
        "outputId": "1ce1cdc9-0e56-49a6-895d-65822c55904d"
      },
      "execution_count": 16,
      "outputs": [
        {
          "output_type": "stream",
          "name": "stderr",
          "text": [
            "WARNING:tensorflow:Layer lstm_5 will not use cuDNN kernels since it doesn't meet the criteria. It will use a generic GPU kernel as fallback when running on GPU.\n"
          ]
        },
        {
          "output_type": "stream",
          "name": "stdout",
          "text": [
            "Model: \"sequential_4\"\n",
            "_________________________________________________________________\n",
            " Layer (type)                Output Shape              Param #   \n",
            "=================================================================\n",
            " embedding_4 (Embedding)     (None, 500, 32)           73088     \n",
            "                                                                 \n",
            " lstm_5 (LSTM)               (None, 500, 50)           16600     \n",
            "                                                                 \n",
            " dense_4 (Dense)             (None, 500, 32)           1632      \n",
            "                                                                 \n",
            "=================================================================\n",
            "Total params: 91,320\n",
            "Trainable params: 91,320\n",
            "Non-trainable params: 0\n",
            "_________________________________________________________________\n",
            "None\n",
            "Epoch 1/10\n",
            "27/27 [==============================] - 46s 2s/step - loss: nan - accuracy: 0.2878 - val_loss: nan - val_accuracy: 0.3005\n",
            "Epoch 2/10\n",
            "27/27 [==============================] - 43s 2s/step - loss: nan - accuracy: 0.2986 - val_loss: nan - val_accuracy: 0.3005\n",
            "Epoch 3/10\n",
            "27/27 [==============================] - 44s 2s/step - loss: nan - accuracy: 0.2986 - val_loss: nan - val_accuracy: 0.3005\n",
            "Epoch 4/10\n",
            "27/27 [==============================] - 44s 2s/step - loss: nan - accuracy: 0.2986 - val_loss: nan - val_accuracy: 0.3005\n",
            "Epoch 5/10\n",
            "27/27 [==============================] - 43s 2s/step - loss: nan - accuracy: 0.2986 - val_loss: nan - val_accuracy: 0.3005\n",
            "Epoch 6/10\n",
            "27/27 [==============================] - 43s 2s/step - loss: nan - accuracy: 0.2986 - val_loss: nan - val_accuracy: 0.3005\n",
            "Epoch 7/10\n",
            "27/27 [==============================] - 43s 2s/step - loss: nan - accuracy: 0.2986 - val_loss: nan - val_accuracy: 0.3005\n",
            "Epoch 8/10\n",
            "27/27 [==============================] - 43s 2s/step - loss: nan - accuracy: 0.2986 - val_loss: nan - val_accuracy: 0.3005\n",
            "Epoch 9/10\n",
            "27/27 [==============================] - 43s 2s/step - loss: nan - accuracy: 0.2986 - val_loss: nan - val_accuracy: 0.3005\n",
            "Epoch 10/10\n",
            "27/27 [==============================] - 43s 2s/step - loss: nan - accuracy: 0.2986 - val_loss: nan - val_accuracy: 0.3005\n",
            "Accuracy: 30.05%\n"
          ]
        }
      ]
    },
    {
      "cell_type": "code",
      "source": [
        "embedding_vecor_length = 32\n",
        "model = Sequential()\n",
        "model.add(Embedding(top_words, embedding_vecor_length, input_length=max_review_length))\n",
        "model.add(Conv1D(filters=32, kernel_size=3, padding='same', activation='relu'))\n",
        "model.add(MaxPooling1D(pool_size=2))\n",
        "#model.add(Dropout(0.2))\n",
        "model.add(LSTM(50, return_sequences = True, input_shape = (X_train.shape[1], 1), dropout=0.2, recurrent_dropout=0.2))\n",
        "#model.add(Dropout(0.2))\n",
        "model.add(Dense(32, activation='sigmoid'))\n",
        "model.compile(loss = tf.keras.losses.SparseCategoricalCrossentropy(from_logits=True), optimizer='adam', metrics=['accuracy'])\n",
        "print(model.summary())\n",
        "model.fit(X_train, y_train, validation_data=(X_test, y_test), epochs=10, batch_size=64)\n",
        "# Final evaluation of the model\n",
        "scores = model.evaluate(X_test, y_test, verbose=0)\n",
        "print(\"Accuracy: %.2f%%\" % (scores[1]*100))"
      ],
      "metadata": {
        "id": "x5KeUWgEcIhC"
      },
      "execution_count": null,
      "outputs": []
    },
    {
      "cell_type": "code",
      "source": [
        "# create the model\n",
        "embedding_vecor_length = 32\n",
        "model = Sequential()\n",
        "model.add(Embedding(top_words, embedding_vecor_length, input_length=max_review_length))\n",
        "model.add(LSTM(50, return_sequences = True, input_shape = (X_train.shape[1], 1)))\n",
        "model.add(Dropout(0.2))\n",
        "model.add(LSTM(100))\n",
        "model.add(Dropout(0.2))\n",
        "model.add(Dense(32, activation='softmax'))\n",
        "model.compile(loss = tf.keras.losses.sparse_categorical_crossentropy, optimizer='adam', metrics=['accuracy'])\n",
        "print(model.summary())\n",
        "model.fit(X_train, y_train, validation_data=(X_test, y_test), epochs=10, batch_size=64)\n"
      ],
      "metadata": {
        "id": "u79ErQiuUycZ"
      },
      "execution_count": null,
      "outputs": []
    },
    {
      "cell_type": "code",
      "metadata": {
        "id": "9iYYCbR92L2h"
      },
      "source": [
        "# LSTM with Dropout for sequence classification in the IMDB dataset\n",
        "\n",
        "# fix random seed for reproducibility\n",
        "#numpy.random.seed(7)\n",
        "# load the dataset but only keep the top n words, zero the rest\n",
        "#LDBn = LDB[0:len(LDM)]\n",
        "#X_train, X_test, _, _ = train_test_split(LDBn,LDBn)\n",
        "#y_train, y_test, _, _ = train_test_split(LDM,LDM)\n",
        "#y_train = np.array(y_train, dtype= np.uint8)\n",
        "#y_test = np.array(y_test, dtype= np.uint8)\n",
        "#X_train =  np.array(X_train, dtype= np.uint8)\n",
        "#X_test = np.array(X_test, dtype= np.uint8)\n",
        "# truncate and pad input sequences\n",
        "top_words = len(LDBn)\n",
        "max_review_length = 500\n",
        "X_train = sequence.pad_sequences(X_train, maxlen=max_review_length)\n",
        "X_test = sequence.pad_sequences(X_test, maxlen=max_review_length)\n",
        "\n",
        "y_train = sequence.pad_sequences(y_train, maxlen=max_review_length)\n",
        "y_test = sequence.pad_sequences(y_test, maxlen=max_review_length)\n",
        "# create the model\n",
        "embedding_vecor_length = 32\n",
        "model = Sequential()\n",
        "model.add(Embedding(top_words, embedding_vecor_length, input_length=max_review_length))\n",
        "model.add(Dropout(0.2))\n",
        "model.add(LSTM(100))\n",
        "model.add(Dropout(0.2))\n",
        "model.add(Dense(1, activation='sigmoid'))\n",
        "model.compile(loss = tf.keras.losses.SparseCategoricalCrossentropy(from_logits=True), optimizer='adam', metrics=['accuracy'])\n",
        "print(model.summary())\n",
        "model.fit(X_train, y_train, validation_data=(X_test, y_test), epochs=3, batch_size=64)\n",
        "# Final evaluation of the model\n",
        "scores = model.evaluate(X_test, y_test, verbose=0)\n",
        "print(\"Accuracy: %.2f%%\" % (scores[1]*100))"
      ],
      "execution_count": null,
      "outputs": []
    },
    {
      "cell_type": "code",
      "metadata": {
        "colab": {
          "base_uri": "https://localhost:8080/"
        },
        "id": "HsRUgw1v1VP3",
        "outputId": "00931caf-1f15-4b3f-88cf-767d2fc8253a"
      },
      "source": [
        "# LSTM with dropout for sequence classification in the IMDB dataset\n",
        "\n",
        "# fix random seed for reproducibility\n",
        "numpy.random.seed(7)\n",
        "# load the dataset but only keep the top n words, zero the rest\n",
        "top_words = 5000\n",
        "(X_train, y_train), (X_test, y_test) = imdb.load_data(num_words=top_words)\n",
        "# truncate and pad input sequences\n",
        "max_review_length = 500\n",
        "X_train = sequence.pad_sequences(X_train, maxlen=max_review_length)\n",
        "X_test = sequence.pad_sequences(X_test, maxlen=max_review_length)\n",
        "# create the model\n",
        "embedding_vecor_length = 32\n",
        "model = Sequential()\n",
        "model.add(Embedding(top_words, embedding_vecor_length, input_length=max_review_length))\n",
        "model.add(LSTM(100, dropout=0.2, recurrent_dropout=0.2))\n",
        "model.add(Dense(1, activation='sigmoid'))\n",
        "model.compile(loss='binary_crossentropy', optimizer='adam', metrics=['accuracy'])\n",
        "print(model.summary())\n",
        "model.fit(X_train, y_train, epochs=3, batch_size=64)\n",
        "# Final evaluation of the model\n",
        "scores = model.evaluate(X_test, y_test, verbose=0)\n",
        "print(\"Accuracy: %.2f%%\" % (scores[1]*100))"
      ],
      "execution_count": null,
      "outputs": [
        {
          "output_type": "stream",
          "name": "stdout",
          "text": [
            "Model: \"sequential_2\"\n",
            "_________________________________________________________________\n",
            "Layer (type)                 Output Shape              Param #   \n",
            "=================================================================\n",
            "embedding_2 (Embedding)      (None, 500, 32)           160000    \n",
            "_________________________________________________________________\n",
            "lstm_2 (LSTM)                (None, 100)               53200     \n",
            "_________________________________________________________________\n",
            "dense_2 (Dense)              (None, 1)                 101       \n",
            "=================================================================\n",
            "Total params: 213,301\n",
            "Trainable params: 213,301\n",
            "Non-trainable params: 0\n",
            "_________________________________________________________________\n",
            "None\n",
            "Epoch 1/3\n",
            "391/391 [==============================] - 471s 1s/step - loss: 0.5063 - accuracy: 0.7403\n",
            "Epoch 2/3\n",
            "391/391 [==============================] - 469s 1s/step - loss: 0.3240 - accuracy: 0.8671\n",
            "Epoch 3/3\n",
            "391/391 [==============================] - 467s 1s/step - loss: 0.2612 - accuracy: 0.8956\n",
            "Accuracy: 87.25%\n"
          ]
        }
      ]
    },
    {
      "cell_type": "code",
      "metadata": {
        "colab": {
          "base_uri": "https://localhost:8080/"
        },
        "id": "Y0weakFL2gfz",
        "outputId": "c1da8f47-07e1-4563-e89f-2eb387f09bc9"
      },
      "source": [
        "# LSTM and CNN for sequence classification in the IMDB dataset\n",
        "\n",
        "# fix random seed for reproducibility\n",
        "numpy.random.seed(7)\n",
        "# load the dataset but only keep the top n words, zero the rest\n",
        "top_words = 5000\n",
        "(X_train, y_train), (X_test, y_test) = imdb.load_data(num_words=top_words)\n",
        "# truncate and pad input sequences\n",
        "max_review_length = 500\n",
        "X_train = sequence.pad_sequences(X_train, maxlen=max_review_length)\n",
        "X_test = sequence.pad_sequences(X_test, maxlen=max_review_length)\n",
        "# create the model\n",
        "embedding_vecor_length = 32\n",
        "model = Sequential()\n",
        "model.add(Embedding(top_words, embedding_vecor_length, input_length=max_review_length))\n",
        "model.add(Conv1D(filters=32, kernel_size=3, padding='same', activation='relu'))\n",
        "model.add(MaxPooling1D(pool_size=2))\n",
        "model.add(LSTM(100))\n",
        "model.add(Dense(1, activation='sigmoid'))\n",
        "model.compile(loss='binary_crossentropy', optimizer='adam', metrics=['accuracy'])\n",
        "print(model.summary())\n",
        "model.fit(X_train, y_train, epochs=3, batch_size=64)\n",
        "# Final evaluation of the model\n",
        "scores = model.evaluate(X_test, y_test, verbose=0)\n",
        "print(\"Accuracy: %.2f%%\" % (scores[1]*100))"
      ],
      "execution_count": null,
      "outputs": [
        {
          "output_type": "stream",
          "name": "stdout",
          "text": [
            "Model: \"sequential_3\"\n",
            "_________________________________________________________________\n",
            "Layer (type)                 Output Shape              Param #   \n",
            "=================================================================\n",
            "embedding_3 (Embedding)      (None, 500, 32)           160000    \n",
            "_________________________________________________________________\n",
            "conv1d (Conv1D)              (None, 500, 32)           3104      \n",
            "_________________________________________________________________\n",
            "max_pooling1d (MaxPooling1D) (None, 250, 32)           0         \n",
            "_________________________________________________________________\n",
            "lstm_3 (LSTM)                (None, 100)               53200     \n",
            "_________________________________________________________________\n",
            "dense_3 (Dense)              (None, 1)                 101       \n",
            "=================================================================\n",
            "Total params: 216,405\n",
            "Trainable params: 216,405\n",
            "Non-trainable params: 0\n",
            "_________________________________________________________________\n",
            "None\n",
            "Epoch 1/3\n",
            "391/391 [==============================] - 132s 330ms/step - loss: 0.4226 - accuracy: 0.7901\n",
            "Epoch 2/3\n",
            "391/391 [==============================] - 128s 329ms/step - loss: 0.2415 - accuracy: 0.9048\n",
            "Epoch 3/3\n",
            "391/391 [==============================] - 129s 330ms/step - loss: 0.1967 - accuracy: 0.9260\n",
            "Accuracy: 88.51%\n"
          ]
        }
      ]
    },
    {
      "cell_type": "code",
      "metadata": {
        "id": "hDKHRpQ_3Udw"
      },
      "source": [],
      "execution_count": null,
      "outputs": []
    }
  ]
}